{
 "cells": [
  {
   "cell_type": "code",
   "execution_count": 1,
   "id": "062082e7",
   "metadata": {
    "execution": {
     "iopub.execute_input": "2023-07-20T16:45:02.285226Z",
     "iopub.status.busy": "2023-07-20T16:45:02.284866Z",
     "iopub.status.idle": "2023-07-20T16:45:03.567924Z",
     "shell.execute_reply": "2023-07-20T16:45:03.567106Z"
    },
    "papermill": {
     "duration": 1.292866,
     "end_time": "2023-07-20T16:45:03.570214",
     "exception": false,
     "start_time": "2023-07-20T16:45:02.277348",
     "status": "completed"
    },
    "tags": []
   },
   "outputs": [
    {
     "name": "stderr",
     "output_type": "stream",
     "text": [
      "/opt/conda/lib/python3.10/site-packages/scipy/__init__.py:146: UserWarning: A NumPy version >=1.16.5 and <1.23.0 is required for this version of SciPy (detected version 1.23.5\n",
      "  warnings.warn(f\"A NumPy version >={np_minversion} and <{np_maxversion}\"\n"
     ]
    }
   ],
   "source": [
    "import pandas as pd\n",
    "import numpy as np\n",
    "import seaborn as sns\n",
    "\n",
    "import matplotlib.pyplot as plt\n",
    "\n",
    "%matplotlib inline\n",
    "\n",
    "import warnings\n",
    "warnings.filterwarnings('ignore')\n"
   ]
  },
  {
   "cell_type": "code",
   "execution_count": 2,
   "id": "d74aae5d",
   "metadata": {
    "execution": {
     "iopub.execute_input": "2023-07-20T16:45:03.582157Z",
     "iopub.status.busy": "2023-07-20T16:45:03.581771Z",
     "iopub.status.idle": "2023-07-20T16:45:03.620638Z",
     "shell.execute_reply": "2023-07-20T16:45:03.619369Z"
    },
    "papermill": {
     "duration": 0.047802,
     "end_time": "2023-07-20T16:45:03.623347",
     "exception": false,
     "start_time": "2023-07-20T16:45:03.575545",
     "status": "completed"
    },
    "tags": []
   },
   "outputs": [],
   "source": [
    "netflix=pd.read_csv('/kaggle/input/netflix-userbase-dataset/Netflix Userbase.csv')"
   ]
  },
  {
   "cell_type": "code",
   "execution_count": 3,
   "id": "c2f04314",
   "metadata": {
    "execution": {
     "iopub.execute_input": "2023-07-20T16:45:03.635817Z",
     "iopub.status.busy": "2023-07-20T16:45:03.635031Z",
     "iopub.status.idle": "2023-07-20T16:45:03.658639Z",
     "shell.execute_reply": "2023-07-20T16:45:03.656857Z"
    },
    "papermill": {
     "duration": 0.032138,
     "end_time": "2023-07-20T16:45:03.660732",
     "exception": false,
     "start_time": "2023-07-20T16:45:03.628594",
     "status": "completed"
    },
    "tags": []
   },
   "outputs": [
    {
     "data": {
      "text/html": [
       "<div>\n",
       "<style scoped>\n",
       "    .dataframe tbody tr th:only-of-type {\n",
       "        vertical-align: middle;\n",
       "    }\n",
       "\n",
       "    .dataframe tbody tr th {\n",
       "        vertical-align: top;\n",
       "    }\n",
       "\n",
       "    .dataframe thead th {\n",
       "        text-align: right;\n",
       "    }\n",
       "</style>\n",
       "<table border=\"1\" class=\"dataframe\">\n",
       "  <thead>\n",
       "    <tr style=\"text-align: right;\">\n",
       "      <th></th>\n",
       "      <th>User ID</th>\n",
       "      <th>Subscription Type</th>\n",
       "      <th>Monthly Revenue</th>\n",
       "      <th>Join Date</th>\n",
       "      <th>Last Payment Date</th>\n",
       "      <th>Country</th>\n",
       "      <th>Age</th>\n",
       "      <th>Gender</th>\n",
       "      <th>Device</th>\n",
       "      <th>Plan Duration</th>\n",
       "    </tr>\n",
       "  </thead>\n",
       "  <tbody>\n",
       "    <tr>\n",
       "      <th>0</th>\n",
       "      <td>1</td>\n",
       "      <td>Basic</td>\n",
       "      <td>10</td>\n",
       "      <td>15-01-22</td>\n",
       "      <td>10-06-23</td>\n",
       "      <td>United States</td>\n",
       "      <td>28</td>\n",
       "      <td>Male</td>\n",
       "      <td>Smartphone</td>\n",
       "      <td>1 Month</td>\n",
       "    </tr>\n",
       "    <tr>\n",
       "      <th>1</th>\n",
       "      <td>2</td>\n",
       "      <td>Premium</td>\n",
       "      <td>15</td>\n",
       "      <td>05-09-21</td>\n",
       "      <td>22-06-23</td>\n",
       "      <td>Canada</td>\n",
       "      <td>35</td>\n",
       "      <td>Female</td>\n",
       "      <td>Tablet</td>\n",
       "      <td>1 Month</td>\n",
       "    </tr>\n",
       "    <tr>\n",
       "      <th>2</th>\n",
       "      <td>3</td>\n",
       "      <td>Standard</td>\n",
       "      <td>12</td>\n",
       "      <td>28-02-23</td>\n",
       "      <td>27-06-23</td>\n",
       "      <td>United Kingdom</td>\n",
       "      <td>42</td>\n",
       "      <td>Male</td>\n",
       "      <td>Smart TV</td>\n",
       "      <td>1 Month</td>\n",
       "    </tr>\n",
       "    <tr>\n",
       "      <th>3</th>\n",
       "      <td>4</td>\n",
       "      <td>Standard</td>\n",
       "      <td>12</td>\n",
       "      <td>10-07-22</td>\n",
       "      <td>26-06-23</td>\n",
       "      <td>Australia</td>\n",
       "      <td>51</td>\n",
       "      <td>Female</td>\n",
       "      <td>Laptop</td>\n",
       "      <td>1 Month</td>\n",
       "    </tr>\n",
       "    <tr>\n",
       "      <th>4</th>\n",
       "      <td>5</td>\n",
       "      <td>Basic</td>\n",
       "      <td>10</td>\n",
       "      <td>01-05-23</td>\n",
       "      <td>28-06-23</td>\n",
       "      <td>Germany</td>\n",
       "      <td>33</td>\n",
       "      <td>Male</td>\n",
       "      <td>Smartphone</td>\n",
       "      <td>1 Month</td>\n",
       "    </tr>\n",
       "  </tbody>\n",
       "</table>\n",
       "</div>"
      ],
      "text/plain": [
       "   User ID Subscription Type  Monthly Revenue Join Date Last Payment Date  \\\n",
       "0        1             Basic               10  15-01-22          10-06-23   \n",
       "1        2           Premium               15  05-09-21          22-06-23   \n",
       "2        3          Standard               12  28-02-23          27-06-23   \n",
       "3        4          Standard               12  10-07-22          26-06-23   \n",
       "4        5             Basic               10  01-05-23          28-06-23   \n",
       "\n",
       "          Country  Age  Gender      Device Plan Duration  \n",
       "0   United States   28    Male  Smartphone       1 Month  \n",
       "1          Canada   35  Female      Tablet       1 Month  \n",
       "2  United Kingdom   42    Male    Smart TV       1 Month  \n",
       "3       Australia   51  Female      Laptop       1 Month  \n",
       "4         Germany   33    Male  Smartphone       1 Month  "
      ]
     },
     "execution_count": 3,
     "metadata": {},
     "output_type": "execute_result"
    }
   ],
   "source": [
    "netflix.head()"
   ]
  },
  {
   "cell_type": "code",
   "execution_count": 4,
   "id": "1d63a1b2",
   "metadata": {
    "execution": {
     "iopub.execute_input": "2023-07-20T16:45:03.673108Z",
     "iopub.status.busy": "2023-07-20T16:45:03.672752Z",
     "iopub.status.idle": "2023-07-20T16:45:03.699613Z",
     "shell.execute_reply": "2023-07-20T16:45:03.698671Z"
    },
    "papermill": {
     "duration": 0.034908,
     "end_time": "2023-07-20T16:45:03.701554",
     "exception": false,
     "start_time": "2023-07-20T16:45:03.666646",
     "status": "completed"
    },
    "tags": []
   },
   "outputs": [
    {
     "name": "stdout",
     "output_type": "stream",
     "text": [
      "<class 'pandas.core.frame.DataFrame'>\n",
      "RangeIndex: 2500 entries, 0 to 2499\n",
      "Data columns (total 10 columns):\n",
      " #   Column             Non-Null Count  Dtype \n",
      "---  ------             --------------  ----- \n",
      " 0   User ID            2500 non-null   int64 \n",
      " 1   Subscription Type  2500 non-null   object\n",
      " 2   Monthly Revenue    2500 non-null   int64 \n",
      " 3   Join Date          2500 non-null   object\n",
      " 4   Last Payment Date  2500 non-null   object\n",
      " 5   Country            2500 non-null   object\n",
      " 6   Age                2500 non-null   int64 \n",
      " 7   Gender             2500 non-null   object\n",
      " 8   Device             2500 non-null   object\n",
      " 9   Plan Duration      2500 non-null   object\n",
      "dtypes: int64(3), object(7)\n",
      "memory usage: 195.4+ KB\n"
     ]
    }
   ],
   "source": [
    "netflix.info()"
   ]
  },
  {
   "cell_type": "code",
   "execution_count": 5,
   "id": "64fdcf84",
   "metadata": {
    "execution": {
     "iopub.execute_input": "2023-07-20T16:45:03.714428Z",
     "iopub.status.busy": "2023-07-20T16:45:03.714091Z",
     "iopub.status.idle": "2023-07-20T16:45:03.721217Z",
     "shell.execute_reply": "2023-07-20T16:45:03.720114Z"
    },
    "papermill": {
     "duration": 0.016361,
     "end_time": "2023-07-20T16:45:03.723507",
     "exception": false,
     "start_time": "2023-07-20T16:45:03.707146",
     "status": "completed"
    },
    "tags": []
   },
   "outputs": [
    {
     "data": {
      "text/plain": [
       "(2500, 10)"
      ]
     },
     "execution_count": 5,
     "metadata": {},
     "output_type": "execute_result"
    }
   ],
   "source": [
    "netflix.shape"
   ]
  },
  {
   "cell_type": "code",
   "execution_count": 6,
   "id": "90fed284",
   "metadata": {
    "execution": {
     "iopub.execute_input": "2023-07-20T16:45:03.735951Z",
     "iopub.status.busy": "2023-07-20T16:45:03.735622Z",
     "iopub.status.idle": "2023-07-20T16:45:03.742787Z",
     "shell.execute_reply": "2023-07-20T16:45:03.741579Z"
    },
    "papermill": {
     "duration": 0.01558,
     "end_time": "2023-07-20T16:45:03.744757",
     "exception": false,
     "start_time": "2023-07-20T16:45:03.729177",
     "status": "completed"
    },
    "tags": []
   },
   "outputs": [
    {
     "data": {
      "text/plain": [
       "Index(['User ID', 'Subscription Type', 'Monthly Revenue', 'Join Date',\n",
       "       'Last Payment Date', 'Country', 'Age', 'Gender', 'Device',\n",
       "       'Plan Duration'],\n",
       "      dtype='object')"
      ]
     },
     "execution_count": 6,
     "metadata": {},
     "output_type": "execute_result"
    }
   ],
   "source": [
    "netflix.columns"
   ]
  },
  {
   "cell_type": "code",
   "execution_count": 7,
   "id": "145c5809",
   "metadata": {
    "execution": {
     "iopub.execute_input": "2023-07-20T16:45:03.758050Z",
     "iopub.status.busy": "2023-07-20T16:45:03.757614Z",
     "iopub.status.idle": "2023-07-20T16:45:03.767911Z",
     "shell.execute_reply": "2023-07-20T16:45:03.766790Z"
    },
    "papermill": {
     "duration": 0.019767,
     "end_time": "2023-07-20T16:45:03.770476",
     "exception": false,
     "start_time": "2023-07-20T16:45:03.750709",
     "status": "completed"
    },
    "tags": []
   },
   "outputs": [
    {
     "data": {
      "text/plain": [
       "User ID              0\n",
       "Subscription Type    0\n",
       "Monthly Revenue      0\n",
       "Join Date            0\n",
       "Last Payment Date    0\n",
       "Country              0\n",
       "Age                  0\n",
       "Gender               0\n",
       "Device               0\n",
       "Plan Duration        0\n",
       "dtype: int64"
      ]
     },
     "execution_count": 7,
     "metadata": {},
     "output_type": "execute_result"
    }
   ],
   "source": [
    "netflix.isnull().sum()"
   ]
  },
  {
   "cell_type": "code",
   "execution_count": 8,
   "id": "b75cc65e",
   "metadata": {
    "execution": {
     "iopub.execute_input": "2023-07-20T16:45:03.785463Z",
     "iopub.status.busy": "2023-07-20T16:45:03.785162Z",
     "iopub.status.idle": "2023-07-20T16:45:03.792949Z",
     "shell.execute_reply": "2023-07-20T16:45:03.791892Z"
    },
    "papermill": {
     "duration": 0.018012,
     "end_time": "2023-07-20T16:45:03.794664",
     "exception": false,
     "start_time": "2023-07-20T16:45:03.776652",
     "status": "completed"
    },
    "tags": []
   },
   "outputs": [
    {
     "data": {
      "text/plain": [
       "Basic       999\n",
       "Standard    768\n",
       "Premium     733\n",
       "Name: Subscription Type, dtype: int64"
      ]
     },
     "execution_count": 8,
     "metadata": {},
     "output_type": "execute_result"
    }
   ],
   "source": [
    "netflix['Subscription Type'].value_counts()"
   ]
  },
  {
   "cell_type": "code",
   "execution_count": 9,
   "id": "a5120e96",
   "metadata": {
    "execution": {
     "iopub.execute_input": "2023-07-20T16:45:03.809057Z",
     "iopub.status.busy": "2023-07-20T16:45:03.808666Z",
     "iopub.status.idle": "2023-07-20T16:45:03.950153Z",
     "shell.execute_reply": "2023-07-20T16:45:03.949166Z"
    },
    "papermill": {
     "duration": 0.151668,
     "end_time": "2023-07-20T16:45:03.952806",
     "exception": false,
     "start_time": "2023-07-20T16:45:03.801138",
     "status": "completed"
    },
    "tags": []
   },
   "outputs": [
    {
     "data": {
      "image/png": "[encoded data removed]",
      "text/plain": [
       "<Figure size 700x700 with 1 Axes>"
      ]
     },
     "metadata": {},
     "output_type": "display_data"
    }
   ],
   "source": [
    "plt.figure(figsize=(7,7))\n",
    "plt.pie(list(netflix['Subscription Type'].value_counts()),labels=list(netflix['Subscription Type'].value_counts().keys()),autopct='%0.1f%%')\n",
    "plt.show()     "
   ]
  },
  {
   "cell_type": "markdown",
   "id": "db858319",
   "metadata": {
    "papermill": {
     "duration": 0.007416,
     "end_time": "2023-07-20T16:45:03.968145",
     "exception": false,
     "start_time": "2023-07-20T16:45:03.960729",
     "status": "completed"
    },
    "tags": []
   },
   "source": [
    "#  **Basic Plan** is more in use "
   ]
  },
  {
   "cell_type": "code",
   "execution_count": 10,
   "id": "df62cdc9",
   "metadata": {
    "execution": {
     "iopub.execute_input": "2023-07-20T16:45:03.985265Z",
     "iopub.status.busy": "2023-07-20T16:45:03.984858Z",
     "iopub.status.idle": "2023-07-20T16:45:03.992617Z",
     "shell.execute_reply": "2023-07-20T16:45:03.991849Z"
    },
    "papermill": {
     "duration": 0.018471,
     "end_time": "2023-07-20T16:45:03.994302",
     "exception": false,
     "start_time": "2023-07-20T16:45:03.975831",
     "status": "completed"
    },
    "tags": []
   },
   "outputs": [
    {
     "data": {
      "text/plain": [
       "12    455\n",
       "14    431\n",
       "13    418\n",
       "10    409\n",
       "15    399\n",
       "11    388\n",
       "Name: Monthly Revenue, dtype: int64"
      ]
     },
     "execution_count": 10,
     "metadata": {},
     "output_type": "execute_result"
    }
   ],
   "source": [
    "netflix['Monthly Revenue'].value_counts()"
   ]
  },
  {
   "cell_type": "code",
   "execution_count": 11,
   "id": "4a4a877f",
   "metadata": {
    "execution": {
     "iopub.execute_input": "2023-07-20T16:45:04.012111Z",
     "iopub.status.busy": "2023-07-20T16:45:04.011391Z",
     "iopub.status.idle": "2023-07-20T16:45:04.018584Z",
     "shell.execute_reply": "2023-07-20T16:45:04.017635Z"
    },
    "papermill": {
     "duration": 0.018289,
     "end_time": "2023-07-20T16:45:04.020513",
     "exception": false,
     "start_time": "2023-07-20T16:45:04.002224",
     "status": "completed"
    },
    "tags": []
   },
   "outputs": [
    {
     "data": {
      "text/plain": [
       "United States     451\n",
       "Spain             451\n",
       "Canada            317\n",
       "United Kingdom    183\n",
       "Australia         183\n",
       "Germany           183\n",
       "France            183\n",
       "Brazil            183\n",
       "Mexico            183\n",
       "Italy             183\n",
       "Name: Country, dtype: int64"
      ]
     },
     "execution_count": 11,
     "metadata": {},
     "output_type": "execute_result"
    }
   ],
   "source": [
    "netflix['Country'].value_counts()"
   ]
  },
  {
   "cell_type": "code",
   "execution_count": 12,
   "id": "bd877fad",
   "metadata": {
    "execution": {
     "iopub.execute_input": "2023-07-20T16:45:04.035224Z",
     "iopub.status.busy": "2023-07-20T16:45:04.034583Z",
     "iopub.status.idle": "2023-07-20T16:45:04.134372Z",
     "shell.execute_reply": "2023-07-20T16:45:04.133618Z"
    },
    "papermill": {
     "duration": 0.109517,
     "end_time": "2023-07-20T16:45:04.136335",
     "exception": false,
     "start_time": "2023-07-20T16:45:04.026818",
     "status": "completed"
    },
    "tags": []
   },
   "outputs": [
    {
     "data": {
      "image/png": "[encoded data removed]",
      "text/plain": [
       "<Figure size 700x700 with 1 Axes>"
      ]
     },
     "metadata": {},
     "output_type": "display_data"
    }
   ],
   "source": [
    "plt.figure(figsize=(7,7))\n",
    "plt.pie(list(netflix['Country'].value_counts()[0:3]),labels=list(netflix['Country'].value_counts()[0:3].keys()),autopct='%0.1f%%')\n",
    "plt.show()"
   ]
  },
  {
   "cell_type": "markdown",
   "id": "14dcf485",
   "metadata": {
    "papermill": {
     "duration": 0.00813,
     "end_time": "2023-07-20T16:45:04.153098",
     "exception": false,
     "start_time": "2023-07-20T16:45:04.144968",
     "status": "completed"
    },
    "tags": []
   },
   "source": [
    "# USA & Spain are the main subscriber "
   ]
  },
  {
   "cell_type": "code",
   "execution_count": 13,
   "id": "1e4fff31",
   "metadata": {
    "execution": {
     "iopub.execute_input": "2023-07-20T16:45:04.172244Z",
     "iopub.status.busy": "2023-07-20T16:45:04.171654Z",
     "iopub.status.idle": "2023-07-20T16:45:04.178577Z",
     "shell.execute_reply": "2023-07-20T16:45:04.177930Z"
    },
    "papermill": {
     "duration": 0.018828,
     "end_time": "2023-07-20T16:45:04.180389",
     "exception": false,
     "start_time": "2023-07-20T16:45:04.161561",
     "status": "completed"
    },
    "tags": []
   },
   "outputs": [
    {
     "data": {
      "text/plain": [
       "39    116\n",
       "30    116\n",
       "28    115\n",
       "31    115\n",
       "41    114\n",
       "47    111\n",
       "37    107\n",
       "35    105\n",
       "29    104\n",
       "40    103\n",
       "42    102\n",
       "48    101\n",
       "46     99\n",
       "36     99\n",
       "49     97\n",
       "43     94\n",
       "33     93\n",
       "51     93\n",
       "32     92\n",
       "45     89\n",
       "38     89\n",
       "34     88\n",
       "27     87\n",
       "44     86\n",
       "50     84\n",
       "26      1\n",
       "Name: Age, dtype: int64"
      ]
     },
     "execution_count": 13,
     "metadata": {},
     "output_type": "execute_result"
    }
   ],
   "source": [
    "netflix['Age'].value_counts()"
   ]
  },
  {
   "cell_type": "code",
   "execution_count": 14,
   "id": "a325688f",
   "metadata": {
    "execution": {
     "iopub.execute_input": "2023-07-20T16:45:04.199426Z",
     "iopub.status.busy": "2023-07-20T16:45:04.198732Z",
     "iopub.status.idle": "2023-07-20T16:45:04.429630Z",
     "shell.execute_reply": "2023-07-20T16:45:04.428422Z"
    },
    "papermill": {
     "duration": 0.243022,
     "end_time": "2023-07-20T16:45:04.432024",
     "exception": false,
     "start_time": "2023-07-20T16:45:04.189002",
     "status": "completed"
    },
    "tags": []
   },
   "outputs": [
    {
     "data": {
      "image/png": "[encoded data removed]",
      "text/plain": [
       "<Figure size 700x700 with 1 Axes>"
      ]
     },
     "metadata": {},
     "output_type": "display_data"
    }
   ],
   "source": [
    "plt.figure(figsize=(7,7))\n",
    "plt.bar(list(netflix['Age'].value_counts().keys()),list(netflix['Age'].value_counts()),color=[\"lightgreen\"])\n",
    "plt.title(\"Distribution of Age\")\n",
    "plt.xlabel(\"Age\")\n",
    "plt.show()\n",
    "        "
   ]
  },
  {
   "cell_type": "markdown",
   "id": "b42d94eb",
   "metadata": {
    "papermill": {
     "duration": 0.008314,
     "end_time": "2023-07-20T16:45:04.447674",
     "exception": false,
     "start_time": "2023-07-20T16:45:04.439360",
     "status": "completed"
    },
    "tags": []
   },
   "source": [
    "# Middle age is using NETFLIX more frequently"
   ]
  },
  {
   "cell_type": "code",
   "execution_count": 15,
   "id": "83930995",
   "metadata": {
    "execution": {
     "iopub.execute_input": "2023-07-20T16:45:04.466476Z",
     "iopub.status.busy": "2023-07-20T16:45:04.465743Z",
     "iopub.status.idle": "2023-07-20T16:45:04.474147Z",
     "shell.execute_reply": "2023-07-20T16:45:04.472786Z"
    },
    "papermill": {
     "duration": 0.018875,
     "end_time": "2023-07-20T16:45:04.476004",
     "exception": false,
     "start_time": "2023-07-20T16:45:04.457129",
     "status": "completed"
    },
    "tags": []
   },
   "outputs": [
    {
     "data": {
      "text/plain": [
       "Female    1257\n",
       "Male      1243\n",
       "Name: Gender, dtype: int64"
      ]
     },
     "execution_count": 15,
     "metadata": {},
     "output_type": "execute_result"
    }
   ],
   "source": [
    "netflix['Gender'].value_counts()"
   ]
  },
  {
   "cell_type": "code",
   "execution_count": 16,
   "id": "51e8af3d",
   "metadata": {
    "execution": {
     "iopub.execute_input": "2023-07-20T16:45:04.496403Z",
     "iopub.status.busy": "2023-07-20T16:45:04.496015Z",
     "iopub.status.idle": "2023-07-20T16:45:04.633412Z",
     "shell.execute_reply": "2023-07-20T16:45:04.632682Z"
    },
    "papermill": {
     "duration": 0.151505,
     "end_time": "2023-07-20T16:45:04.635275",
     "exception": false,
     "start_time": "2023-07-20T16:45:04.483770",
     "status": "completed"
    },
    "tags": []
   },
   "outputs": [
    {
     "data": {
      "image/png": "[encoded data removed]",
      "text/plain": [
       "<Figure size 700x700 with 1 Axes>"
      ]
     },
     "metadata": {},
     "output_type": "display_data"
    }
   ],
   "source": [
    "plt.figure(figsize=(7,7))\n",
    "plt.bar(list(netflix['Gender'].value_counts().keys()),list(netflix['Gender'].value_counts()),label=list(netflix['Gender'].value_counts().keys()),color=[\"Black\",\"Pink\"])\n",
    "plt.show()"
   ]
  },
  {
   "cell_type": "markdown",
   "id": "51b02491",
   "metadata": {
    "papermill": {
     "duration": 0.008581,
     "end_time": "2023-07-20T16:45:04.653142",
     "exception": false,
     "start_time": "2023-07-20T16:45:04.644561",
     "status": "completed"
    },
    "tags": []
   },
   "source": [
    "# Almost Men and Women are Equally Subscribing"
   ]
  },
  {
   "cell_type": "code",
   "execution_count": 17,
   "id": "9f4b4c98",
   "metadata": {
    "execution": {
     "iopub.execute_input": "2023-07-20T16:45:04.669498Z",
     "iopub.status.busy": "2023-07-20T16:45:04.668700Z",
     "iopub.status.idle": "2023-07-20T16:45:04.675452Z",
     "shell.execute_reply": "2023-07-20T16:45:04.674835Z"
    },
    "papermill": {
     "duration": 0.01634,
     "end_time": "2023-07-20T16:45:04.677082",
     "exception": false,
     "start_time": "2023-07-20T16:45:04.660742",
     "status": "completed"
    },
    "tags": []
   },
   "outputs": [
    {
     "data": {
      "text/plain": [
       "Laptop        636\n",
       "Tablet        633\n",
       "Smartphone    621\n",
       "Smart TV      610\n",
       "Name: Device, dtype: int64"
      ]
     },
     "execution_count": 17,
     "metadata": {},
     "output_type": "execute_result"
    }
   ],
   "source": [
    "netflix['Device'].value_counts()"
   ]
  },
  {
   "cell_type": "markdown",
   "id": "747f2541",
   "metadata": {
    "papermill": {
     "duration": 0.007336,
     "end_time": "2023-07-20T16:45:04.691595",
     "exception": false,
     "start_time": "2023-07-20T16:45:04.684259",
     "status": "completed"
    },
    "tags": []
   },
   "source": []
  },
  {
   "cell_type": "code",
   "execution_count": 18,
   "id": "c06b8f65",
   "metadata": {
    "execution": {
     "iopub.execute_input": "2023-07-20T16:45:04.712540Z",
     "iopub.status.busy": "2023-07-20T16:45:04.711182Z",
     "iopub.status.idle": "2023-07-20T16:45:04.832809Z",
     "shell.execute_reply": "2023-07-20T16:45:04.832047Z"
    },
    "papermill": {
     "duration": 0.132692,
     "end_time": "2023-07-20T16:45:04.834736",
     "exception": false,
     "start_time": "2023-07-20T16:45:04.702044",
     "status": "completed"
    },
    "tags": []
   },
   "outputs": [
    {
     "data": {
      "image/png": "[encoded data removed]",
      "text/plain": [
       "<Figure size 700x700 with 1 Axes>"
      ]
     },
     "metadata": {},
     "output_type": "display_data"
    }
   ],
   "source": [
    "plt.figure(figsize=(7,7))\n",
    "plt.pie(list(netflix['Device'].value_counts()),labels=list(netflix['Device'].value_counts().keys()),autopct='%0.1f%%')\n",
    "plt.show()"
   ]
  },
  {
   "cell_type": "markdown",
   "id": "76aa6b70",
   "metadata": {
    "papermill": {
     "duration": 0.009137,
     "end_time": "2023-07-20T16:45:04.853590",
     "exception": false,
     "start_time": "2023-07-20T16:45:04.844453",
     "status": "completed"
    },
    "tags": []
   },
   "source": [
    "# Laptop and Tablet version is more subscribed"
   ]
  },
  {
   "cell_type": "code",
   "execution_count": 19,
   "id": "a1cb1083",
   "metadata": {
    "execution": {
     "iopub.execute_input": "2023-07-20T16:45:04.874831Z",
     "iopub.status.busy": "2023-07-20T16:45:04.873662Z",
     "iopub.status.idle": "2023-07-20T16:45:04.881538Z",
     "shell.execute_reply": "2023-07-20T16:45:04.880854Z"
    },
    "papermill": {
     "duration": 0.021252,
     "end_time": "2023-07-20T16:45:04.884058",
     "exception": false,
     "start_time": "2023-07-20T16:45:04.862806",
     "status": "completed"
    },
    "tags": []
   },
   "outputs": [
    {
     "data": {
      "text/plain": [
       "1 Month    2500\n",
       "Name: Plan Duration, dtype: int64"
      ]
     },
     "execution_count": 19,
     "metadata": {},
     "output_type": "execute_result"
    }
   ],
   "source": [
    "netflix['Plan Duration'].value_counts()"
   ]
  },
  {
   "cell_type": "code",
   "execution_count": null,
   "id": "27295697",
   "metadata": {
    "papermill": {
     "duration": 0.009524,
     "end_time": "2023-07-20T16:45:04.903906",
     "exception": false,
     "start_time": "2023-07-20T16:45:04.894382",
     "status": "completed"
    },
    "tags": []
   },
   "outputs": [],
   "source": []
  }
 ],
 "metadata": {
  "kernelspec": {
   "display_name": "Python 3",
   "language": "python",
   "name": "python3"
  },
  "language_info": {
   "codemirror_mode": {
    "name": "ipython",
    "version": 3
   },
   "file_extension": ".py",
   "mimetype": "text/x-python",
   "name": "python",
   "nbconvert_exporter": "python",
   "pygments_lexer": "ipython3",
   "version": "3.10.12"
  },
  "papermill": {
   "default_parameters": {},
   "duration": 11.427426,
   "end_time": "2023-07-20T16:45:05.732827",
   "environment_variables": {},
   "exception": null,
   "input_path": "__notebook__.ipynb",
   "output_path": "__notebook__.ipynb",
   "parameters": {},
   "start_time": "2023-07-20T16:44:54.305401",
   "version": "2.4.0"
  }
 },
 "nbformat": 4,
 "nbformat_minor": 5
}
